{
  "nbformat": 4,
  "nbformat_minor": 0,
  "metadata": {
    "colab": {
      "provenance": [],
      "mount_file_id": "1mGa4gwQApgzH6J7uvI7NATj2lidzrrXB",
      "authorship_tag": "ABX9TyNAK+YPjGhcZ9zR6ELT9mBn",
      "include_colab_link": true
    },
    "kernelspec": {
      "name": "python3",
      "display_name": "Python 3"
    },
    "language_info": {
      "name": "python"
    }
  },
  "cells": [
    {
      "cell_type": "markdown",
      "metadata": {
        "id": "view-in-github",
        "colab_type": "text"
      },
      "source": [
        "<a href=\"https://colab.research.google.com/github/luceldasilva/algebra-lineal-para-ml/blob/main/Algebra_Lineal.ipynb\" target=\"_parent\"><img src=\"https://colab.research.google.com/assets/colab-badge.svg\" alt=\"Open In Colab\"/></a>"
      ]
    },
    {
      "cell_type": "code",
      "execution_count": 1,
      "metadata": {
        "id": "uE_RxE0tUN6c"
      },
      "outputs": [],
      "source": [
        "%matplotlib inline\n",
        "\n",
        "import numpy as np\n",
        "import matplotlib.pyplot as plt"
      ]
    },
    {
      "cell_type": "markdown",
      "source": [
        "### Matrices y transformaciones lineales"
      ],
      "metadata": {
        "id": "427JfrLpUmSX"
      }
    },
    {
      "cell_type": "code",
      "source": [
        "clase_1 = np.array([[-1,3],[2,-2]])\n",
        "print(clase_1)"
      ],
      "metadata": {
        "colab": {
          "base_uri": "https://localhost:8080/"
        },
        "id": "jNzYO7OyUbtC",
        "outputId": "01767c3f-99a4-4c17-c1d7-fee12d0f70b9"
      },
      "execution_count": 2,
      "outputs": [
        {
          "output_type": "stream",
          "name": "stdout",
          "text": [
            "[[-1  3]\n",
            " [ 2 -2]]\n"
          ]
        }
      ]
    },
    {
      "cell_type": "code",
      "source": [
        "vector_clase_1 = np.array([[2],[1]])\n",
        "print(vector_clase_1)"
      ],
      "metadata": {
        "colab": {
          "base_uri": "https://localhost:8080/"
        },
        "id": "2kDSTaTiUyxm",
        "outputId": "2b0d5460-15e1-4a34-c7d8-f56ae5445b23"
      },
      "execution_count": 3,
      "outputs": [
        {
          "output_type": "stream",
          "name": "stdout",
          "text": [
            "[[2]\n",
            " [1]]\n"
          ]
        }
      ]
    },
    {
      "cell_type": "code",
      "source": [
        "%run \"/content/drive/MyDrive/Colab Notebooks/funciones_auxiliares/graficarVectores.ipynb\""
      ],
      "metadata": {
        "id": "5AbRXQW5WqPV"
      },
      "execution_count": 4,
      "outputs": []
    },
    {
      "cell_type": "code",
      "source": [
        "print(vector_clase_1)\n",
        "print(vector_clase_1.flatten())"
      ],
      "metadata": {
        "colab": {
          "base_uri": "https://localhost:8080/"
        },
        "id": "_zktlQ9YXP69",
        "outputId": "fea1d135-d85c-4336-83dd-f4f62442fb53"
      },
      "execution_count": 5,
      "outputs": [
        {
          "output_type": "stream",
          "name": "stdout",
          "text": [
            "[[2]\n",
            " [1]]\n",
            "[2 1]\n"
          ]
        }
      ]
    },
    {
      "cell_type": "code",
      "source": [
        "print(clase_1)\n",
        "print(clase_1.flatten())"
      ],
      "metadata": {
        "colab": {
          "base_uri": "https://localhost:8080/"
        },
        "id": "siFPUELMY_Cx",
        "outputId": "a6a6e36b-4927-4e37-cfcd-f17ea5e1c467"
      },
      "execution_count": 6,
      "outputs": [
        {
          "output_type": "stream",
          "name": "stdout",
          "text": [
            "[[-1  3]\n",
            " [ 2 -2]]\n",
            "[-1  3  2 -2]\n"
          ]
        }
      ]
    },
    {
      "cell_type": "code",
      "source": [
        "graficarVectores([vector_clase_1.flatten()], cols='blue')\n",
        "plt.xlim(-0.5, 3)\n",
        "plt.ylim(-0.5, 2)"
      ],
      "metadata": {
        "colab": {
          "base_uri": "https://localhost:8080/",
          "height": 286
        },
        "id": "vT_LyjxYZJ22",
        "outputId": "5a8d1bd1-ab3e-437c-ad95-830a8bded868"
      },
      "execution_count": 7,
      "outputs": [
        {
          "output_type": "execute_result",
          "data": {
            "text/plain": [
              "(-0.5, 2.0)"
            ]
          },
          "metadata": {},
          "execution_count": 7
        },
        {
          "output_type": "display_data",
          "data": {
            "text/plain": [
              "<Figure size 432x288 with 1 Axes>"
            ],
            "image/png": "[encoded data removed]"
          },
          "metadata": {
            "needs_background": "light"
          }
        }
      ]
    },
    {
      "cell_type": "code",
      "source": [
        "vector_trans = clase_1.dot(vector_clase_1)\n",
        "print(vector_trans)"
      ],
      "metadata": {
        "colab": {
          "base_uri": "https://localhost:8080/"
        },
        "id": "MrMzngxRZjYd",
        "outputId": "0519fa5b-c17b-4045-f387-d9f35553d1a7"
      },
      "execution_count": 8,
      "outputs": [
        {
          "output_type": "stream",
          "name": "stdout",
          "text": [
            "[[1]\n",
            " [2]]\n"
          ]
        }
      ]
    },
    {
      "cell_type": "code",
      "source": [
        "graficarVectores([vector_clase_1.flatten(), vector_trans.flatten()],\n",
        "                 cols = ['blue', 'orange'])\n",
        "plt.xlim(-0.5, 2.5)\n",
        "plt.ylim(-0.5, 2.5)"
      ],
      "metadata": {
        "colab": {
          "base_uri": "https://localhost:8080/",
          "height": 286
        },
        "id": "9j4-RvlZaO6-",
        "outputId": "963da512-f366-46c7-e913-a1aa38168758"
      },
      "execution_count": 9,
      "outputs": [
        {
          "output_type": "execute_result",
          "data": {
            "text/plain": [
              "(-0.5, 2.5)"
            ]
          },
          "metadata": {},
          "execution_count": 9
        },
        {
          "output_type": "display_data",
          "data": {
            "text/plain": [
              "<Figure size 432x288 with 1 Axes>"
            ],
            "image/png": "[encoded data removed]"
          },
          "metadata": {
            "needs_background": "light"
          }
        }
      ]
    },
    {
      "cell_type": "code",
      "source": [
        "print(np.linalg.det(clase_1))"
      ],
      "metadata": {
        "colab": {
          "base_uri": "https://localhost:8080/"
        },
        "id": "blQmXXjUahig",
        "outputId": "9f83f50b-0512-4826-dcf3-189417e64ca2"
      },
      "execution_count": 10,
      "outputs": [
        {
          "output_type": "stream",
          "name": "stdout",
          "text": [
            "-4.0\n"
          ]
        }
      ]
    },
    {
      "cell_type": "code",
      "source": [
        "print(np.linalg.norm(vector_clase_1))\n",
        "print(np.linalg.norm(vector_trans))"
      ],
      "metadata": {
        "colab": {
          "base_uri": "https://localhost:8080/"
        },
        "id": "KF3D3yR9asWk",
        "outputId": "d1dce62e-b56f-4a17-9dc9-00f23cbccc52"
      },
      "execution_count": 11,
      "outputs": [
        {
          "output_type": "stream",
          "name": "stdout",
          "text": [
            "2.23606797749979\n",
            "2.23606797749979\n"
          ]
        }
      ]
    },
    {
      "cell_type": "markdown",
      "source": [
        "## Autovalores y Autovectores"
      ],
      "metadata": {
        "id": "I9LjLWvYGmHY"
      }
    },
    {
      "cell_type": "code",
      "source": [
        "orange_ligth = '#FF9A13'\n",
        "blue_ligth = '#1190FF'"
      ],
      "metadata": {
        "id": "vriaXuUaa078"
      },
      "execution_count": 12,
      "outputs": []
    },
    {
      "cell_type": "code",
      "source": [
        "x = np.array([[3, 2], [4,1]])\n",
        "print(x)"
      ],
      "metadata": {
        "colab": {
          "base_uri": "https://localhost:8080/"
        },
        "id": "BAGPqIABFqEW",
        "outputId": "b3934abf-19c8-487b-98fa-a3d300a39401"
      },
      "execution_count": 13,
      "outputs": [
        {
          "output_type": "stream",
          "name": "stdout",
          "text": [
            "[[3 2]\n",
            " [4 1]]\n"
          ]
        }
      ]
    },
    {
      "cell_type": "code",
      "source": [
        "clase_2 = np.array([[1],[1]])\n",
        "print(clase_2)"
      ],
      "metadata": {
        "colab": {
          "base_uri": "https://localhost:8080/"
        },
        "id": "U0pvtkLHFwY8",
        "outputId": "35e905da-e3e5-40a9-e8e1-0a2f427bb010"
      },
      "execution_count": 14,
      "outputs": [
        {
          "output_type": "stream",
          "name": "stdout",
          "text": [
            "[[1]\n",
            " [1]]\n"
          ]
        }
      ]
    },
    {
      "cell_type": "code",
      "source": [
        "u_clase_2 = x.dot(clase_2)\n",
        "print(u_clase_2)"
      ],
      "metadata": {
        "colab": {
          "base_uri": "https://localhost:8080/"
        },
        "id": "ih5t8Qb7F218",
        "outputId": "1d7debfb-e5e5-469b-d6ee-2156336a3128"
      },
      "execution_count": 15,
      "outputs": [
        {
          "output_type": "stream",
          "name": "stdout",
          "text": [
            "[[5]\n",
            " [5]]\n"
          ]
        }
      ]
    },
    {
      "cell_type": "code",
      "source": [
        "graficarVectores([u_clase_2.flatten(), clase_2.flatten()], cols=[orange_ligth, blue_ligth])\n",
        "\n",
        "plt.xlim(-1,6)\n",
        "plt.ylim(-1,6)"
      ],
      "metadata": {
        "colab": {
          "base_uri": "https://localhost:8080/",
          "height": 286
        },
        "id": "tqWjEZMCF7JF",
        "outputId": "7f5bc8b0-de42-4bba-9636-5f779a3b5399"
      },
      "execution_count": 16,
      "outputs": [
        {
          "output_type": "execute_result",
          "data": {
            "text/plain": [
              "(-1.0, 6.0)"
            ]
          },
          "metadata": {},
          "execution_count": 16
        },
        {
          "output_type": "display_data",
          "data": {
            "text/plain": [
              "<Figure size 432x288 with 1 Axes>"
            ],
            "image/png": "[encoded data removed]"
          },
          "metadata": {
            "needs_background": "light"
          }
        }
      ]
    },
    {
      "cell_type": "code",
      "source": [
        "lambda_1 = 5\n",
        "\n",
        "lambda_1 * clase_2"
      ],
      "metadata": {
        "colab": {
          "base_uri": "https://localhost:8080/"
        },
        "id": "M-ZRGgmUGTYq",
        "outputId": "891b8384-a784-4cc6-83b2-83eaa0bf6589"
      },
      "execution_count": 17,
      "outputs": [
        {
          "output_type": "execute_result",
          "data": {
            "text/plain": [
              "array([[5],\n",
              "       [5]])"
            ]
          },
          "metadata": {},
          "execution_count": 17
        }
      ]
    },
    {
      "cell_type": "code",
      "source": [
        "clase_3 = np.array([[-1],[2]])\n",
        "print(clase_3)"
      ],
      "metadata": {
        "colab": {
          "base_uri": "https://localhost:8080/"
        },
        "id": "eeeOivKvGczR",
        "outputId": "075e6dff-dc67-4647-a615-939c0a1f1acf"
      },
      "execution_count": 18,
      "outputs": [
        {
          "output_type": "stream",
          "name": "stdout",
          "text": [
            "[[-1]\n",
            " [ 2]]\n"
          ]
        }
      ]
    },
    {
      "cell_type": "code",
      "source": [
        "t_clase_3 = x.dot(clase_3)\n",
        "print(t_clase_3)"
      ],
      "metadata": {
        "colab": {
          "base_uri": "https://localhost:8080/"
        },
        "id": "KAoOLo4cGtfb",
        "outputId": "d80b161f-195d-4148-b7d0-324f4bc2c05b"
      },
      "execution_count": 19,
      "outputs": [
        {
          "output_type": "stream",
          "name": "stdout",
          "text": [
            "[[ 1]\n",
            " [-2]]\n"
          ]
        }
      ]
    },
    {
      "cell_type": "code",
      "source": [
        "graficarVectores([t_clase_3.flatten(), clase_3.flatten()], cols=[orange_ligth, blue_ligth])\n",
        "\n",
        "plt.xlim(-3,3)\n",
        "plt.ylim(-3,3)"
      ],
      "metadata": {
        "colab": {
          "base_uri": "https://localhost:8080/",
          "height": 286
        },
        "id": "-lvgJIijGy94",
        "outputId": "ecfb3ffe-0b39-4779-c48f-68624c0d7fb6"
      },
      "execution_count": 20,
      "outputs": [
        {
          "output_type": "execute_result",
          "data": {
            "text/plain": [
              "(-3.0, 3.0)"
            ]
          },
          "metadata": {},
          "execution_count": 20
        },
        {
          "output_type": "display_data",
          "data": {
            "text/plain": [
              "<Figure size 432x288 with 1 Axes>"
            ],
            "image/png": "[encoded data removed]"
          },
          "metadata": {
            "needs_background": "light"
          }
        }
      ]
    },
    {
      "cell_type": "markdown",
      "source": [
        "### Cómo calcularlos"
      ],
      "metadata": {
        "id": "PzXv0OjpHNPD"
      }
    },
    {
      "cell_type": "code",
      "source": [
        "print(np.linalg.eig(x))"
      ],
      "metadata": {
        "colab": {
          "base_uri": "https://localhost:8080/"
        },
        "id": "04Lao1_lHFbz",
        "outputId": "6865f5b1-cdcb-4af6-bc02-50cc5c0573ea"
      },
      "execution_count": 21,
      "outputs": [
        {
          "output_type": "stream",
          "name": "stdout",
          "text": [
            "(array([ 5., -1.]), array([[ 0.70710678, -0.4472136 ],\n",
            "       [ 0.70710678,  0.89442719]]))\n"
          ]
        }
      ]
    },
    {
      "cell_type": "code",
      "source": [
        "autovalores, autovectores = np.linalg.eig(x)\n",
        "print(autovalores)"
      ],
      "metadata": {
        "colab": {
          "base_uri": "https://localhost:8080/"
        },
        "id": "phY4H42NHwyH",
        "outputId": "4a087230-c767-40a0-b7c5-2cc205720adc"
      },
      "execution_count": 22,
      "outputs": [
        {
          "output_type": "stream",
          "name": "stdout",
          "text": [
            "[ 5. -1.]\n"
          ]
        }
      ]
    },
    {
      "cell_type": "code",
      "source": [
        "print(autovectores[:, 0])"
      ],
      "metadata": {
        "colab": {
          "base_uri": "https://localhost:8080/"
        },
        "id": "ovj02sqCH_Qg",
        "outputId": "e7544145-032e-4ae8-d484-fa13ef29bc4d"
      },
      "execution_count": 23,
      "outputs": [
        {
          "output_type": "stream",
          "name": "stdout",
          "text": [
            "[0.70710678 0.70710678]\n"
          ]
        }
      ]
    },
    {
      "cell_type": "code",
      "source": [
        "print(autovectores[:, 1])"
      ],
      "metadata": {
        "colab": {
          "base_uri": "https://localhost:8080/"
        },
        "id": "TuON6-uqIDR-",
        "outputId": "dd676f9a-3c38-425e-fc59-edfec961054e"
      },
      "execution_count": 24,
      "outputs": [
        {
          "output_type": "stream",
          "name": "stdout",
          "text": [
            "[-0.4472136   0.89442719]\n"
          ]
        }
      ]
    },
    {
      "cell_type": "code",
      "source": [
        "clase_4 = x.dot(clase_3)\n",
        "\n",
        "v_np = autovectores[:, 1]"
      ],
      "metadata": {
        "id": "B5nD3yMDIHeY"
      },
      "execution_count": 25,
      "outputs": []
    },
    {
      "cell_type": "code",
      "source": [
        "graficarVectores([clase_4.flatten(), clase_3.flatten(), v_np], cols = ['green', 'orange', 'blue'])\n",
        "\n",
        "plt.xlim(-4,2)\n",
        "plt.ylim(-7,3)"
      ],
      "metadata": {
        "colab": {
          "base_uri": "https://localhost:8080/",
          "height": 282
        },
        "id": "WZm_pYyhIXtd",
        "outputId": "d2070b2f-6f31-408c-be01-d810fc009967"
      },
      "execution_count": 26,
      "outputs": [
        {
          "output_type": "execute_result",
          "data": {
            "text/plain": [
              "(-7.0, 3.0)"
            ]
          },
          "metadata": {},
          "execution_count": 26
        },
        {
          "output_type": "display_data",
          "data": {
            "text/plain": [
              "<Figure size 432x288 with 1 Axes>"
            ],
            "image/png": "[encoded data removed]"
          },
          "metadata": {
            "needs_background": "light"
          }
        }
      ]
    },
    {
      "cell_type": "markdown",
      "source": [
        "## Descomposición de matrices"
      ],
      "metadata": {
        "id": "yc0nQ-qIQOmf"
      }
    },
    {
      "cell_type": "markdown",
      "source": [
        "Usando el ejemplo de los autovectores y autovalores de la variable x más arriba"
      ],
      "metadata": {
        "id": "qBdQoI_uQ0NU"
      }
    },
    {
      "cell_type": "code",
      "source": [
        "X_calc = autovectores.dot(np.diag(autovalores)).dot(np.linalg.inv(autovectores))"
      ],
      "metadata": {
        "id": "dCxnyif4Iwqg"
      },
      "execution_count": 27,
      "outputs": []
    },
    {
      "cell_type": "code",
      "source": [
        "print(X_calc)"
      ],
      "metadata": {
        "colab": {
          "base_uri": "https://localhost:8080/"
        },
        "id": "NqfVMxxJQoSA",
        "outputId": "7e124dfd-faba-4dde-e60c-7b4fcfbfd205"
      },
      "execution_count": 28,
      "outputs": [
        {
          "output_type": "stream",
          "name": "stdout",
          "text": [
            "[[3. 2.]\n",
            " [4. 1.]]\n"
          ]
        }
      ]
    },
    {
      "cell_type": "markdown",
      "source": [
        "La matriz original de la variable x"
      ],
      "metadata": {
        "id": "JNjx4uX8Rjj2"
      }
    },
    {
      "cell_type": "code",
      "source": [
        "clase_5 = np.array([[3,2], [2,3]])\n",
        "print(clase_5)"
      ],
      "metadata": {
        "colab": {
          "base_uri": "https://localhost:8080/"
        },
        "id": "ZWyfHaI_RQ5O",
        "outputId": "8840485e-1c7b-48b7-b704-1d3e103387f0"
      },
      "execution_count": 29,
      "outputs": [
        {
          "output_type": "stream",
          "name": "stdout",
          "text": [
            "[[3 2]\n",
            " [2 3]]\n"
          ]
        }
      ]
    },
    {
      "cell_type": "markdown",
      "source": [
        "Mostrar que *clase_5* es simétrica"
      ],
      "metadata": {
        "id": "NOzuxif9SOYv"
      }
    },
    {
      "cell_type": "code",
      "source": [
        "print(clase_5 == clase_5.T)"
      ],
      "metadata": {
        "colab": {
          "base_uri": "https://localhost:8080/"
        },
        "id": "VJhLnCFNSLSV",
        "outputId": "755f8ba1-a237-4ff0-c07c-ee2c976302e6"
      },
      "execution_count": 30,
      "outputs": [
        {
          "output_type": "stream",
          "name": "stdout",
          "text": [
            "[[ True  True]\n",
            " [ True  True]]\n"
          ]
        }
      ]
    },
    {
      "cell_type": "code",
      "source": [
        "autovalores_clase_5, autovectores_clase_5 = np.linalg.eig(clase_5)\n",
        "print(autovalores_clase_5)\n",
        "print(autovectores_clase_5)"
      ],
      "metadata": {
        "colab": {
          "base_uri": "https://localhost:8080/"
        },
        "id": "3xmmSmjrSbau",
        "outputId": "5fa9119e-0a36-478f-dffb-f96a0a8a7f0e"
      },
      "execution_count": 31,
      "outputs": [
        {
          "output_type": "stream",
          "name": "stdout",
          "text": [
            "[5. 1.]\n",
            "[[ 0.70710678 -0.70710678]\n",
            " [ 0.70710678  0.70710678]]\n"
          ]
        }
      ]
    },
    {
      "cell_type": "markdown",
      "source": [
        "Calcular transpuesta es más cómodo que la inversa"
      ],
      "metadata": {
        "id": "pxBda5JAS-d0"
      }
    },
    {
      "cell_type": "code",
      "source": [
        "clase_5_calc = autovectores_clase_5.dot(np.diag(autovalores_clase_5)).dot(autovectores_clase_5.T)\n",
        "print(clase_5_calc)"
      ],
      "metadata": {
        "colab": {
          "base_uri": "https://localhost:8080/"
        },
        "id": "iLixiJ3IStLy",
        "outputId": "a9f37453-bef7-4c60-8bff-a25f6dfac704"
      },
      "execution_count": 32,
      "outputs": [
        {
          "output_type": "stream",
          "name": "stdout",
          "text": [
            "[[3. 2.]\n",
            " [2. 3.]]\n"
          ]
        }
      ]
    },
    {
      "cell_type": "markdown",
      "source": [
        "Recuperamos matriz original"
      ],
      "metadata": {
        "id": "yVR8jNkuTk5X"
      }
    },
    {
      "cell_type": "markdown",
      "source": [
        "### ¿Cómo descompongo una matriz no cuadrada (SVD)?"
      ],
      "metadata": {
        "id": "YgSwSi_kT1dS"
      }
    },
    {
      "cell_type": "code",
      "source": [
        "class_6 = np.array([[1,2,3], [3,4,5]])\n",
        "print(class_6)"
      ],
      "metadata": {
        "colab": {
          "base_uri": "https://localhost:8080/"
        },
        "id": "1WRt6IoUTM_1",
        "outputId": "042a62f6-5c5d-409e-9ce1-5fb2d6ec3417"
      },
      "execution_count": 33,
      "outputs": [
        {
          "output_type": "stream",
          "name": "stdout",
          "text": [
            "[[1 2 3]\n",
            " [3 4 5]]\n"
          ]
        }
      ]
    },
    {
      "cell_type": "code",
      "source": [
        "U, D, V = np.linalg.svd(class_6)\n",
        "print(U)"
      ],
      "metadata": {
        "colab": {
          "base_uri": "https://localhost:8080/"
        },
        "id": "y5TpVZBEUaO_",
        "outputId": "5d927757-5f1b-414c-ff3b-d54373c98b57"
      },
      "execution_count": 34,
      "outputs": [
        {
          "output_type": "stream",
          "name": "stdout",
          "text": [
            "[[-0.46410668 -0.88577931]\n",
            " [-0.88577931  0.46410668]]\n"
          ]
        }
      ]
    },
    {
      "cell_type": "code",
      "source": [
        "print(D)"
      ],
      "metadata": {
        "colab": {
          "base_uri": "https://localhost:8080/"
        },
        "id": "kCfdG1Z4Uiia",
        "outputId": "e564e8e6-b8e5-469e-fb46-d2e12349eaed"
      },
      "execution_count": 35,
      "outputs": [
        {
          "output_type": "stream",
          "name": "stdout",
          "text": [
            "[7.97638869 0.61418515]\n"
          ]
        }
      ]
    },
    {
      "cell_type": "code",
      "source": [
        "print(np.diag(D))"
      ],
      "metadata": {
        "colab": {
          "base_uri": "https://localhost:8080/"
        },
        "id": "Lw6AKQfqUnmY",
        "outputId": "e046f56f-144b-480e-f9d9-5e62231ef0e8"
      },
      "execution_count": 36,
      "outputs": [
        {
          "output_type": "stream",
          "name": "stdout",
          "text": [
            "[[7.97638869 0.        ]\n",
            " [0.         0.61418515]]\n"
          ]
        }
      ]
    },
    {
      "cell_type": "code",
      "source": [
        "print(V)"
      ],
      "metadata": {
        "colab": {
          "base_uri": "https://localhost:8080/"
        },
        "id": "zgpqF2hFYG14",
        "outputId": "127577df-1a39-45df-b70a-72f87823cc43"
      },
      "execution_count": 37,
      "outputs": [
        {
          "output_type": "stream",
          "name": "stdout",
          "text": [
            "[[-0.39133557 -0.5605708  -0.72980603]\n",
            " [ 0.8247362   0.13817999 -0.54837623]\n",
            " [ 0.40824829 -0.81649658  0.40824829]]\n"
          ]
        }
      ]
    },
    {
      "cell_type": "markdown",
      "source": [
        "## Las tres transformaciones"
      ],
      "metadata": {
        "id": "guAhxOe3ZvZ9"
      }
    },
    {
      "cell_type": "code",
      "source": [
        "def graficarMatriz(matriz, vectorCol['red', 'blue']):\n",
        "\n",
        "  #circulo unitario\n",
        "  x = np.linspace(-1,1, 100000)\n",
        "  y = np.sqrt(1-(x**2))\n",
        "\n",
        "  #circulo unitario transformado\n",
        "  x1 = matriz[0,0]*x + matriz[0,1]*y\n",
        "  y1 = matriz[1,0]*x + matriz[1,1]*y\n",
        "  x1_neg = matriz[0,0]*x - matriz[0,1]*y\n",
        "  y1_neg = matriz[1,0]*x - matriz[1,1]*y\n",
        "\n",
        "  #vectores\n",
        "  u1 = [matriz[0,0], matriz[1,0]]\n",
        "  v1 = [matriz[0,1], matriz[1,1]]\n",
        "\n",
        "  graficarVectores([u1, v1], cols=[vectorCol[0], vectorCol[1]])\n",
        "\n",
        "  plt.plt(x1, y1, 'green', alpha = 0.7)\n",
        "  plt.plt(x1, y1, 'green', alpha = 0.7)"
      ],
      "metadata": {
        "id": "bb1DtYGgYV9P"
      },
      "execution_count": 37,
      "outputs": []
    }
  ]
}