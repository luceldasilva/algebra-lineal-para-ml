{
  "nbformat": 4,
  "nbformat_minor": 0,
  "metadata": {
    "colab": {
      "provenance": [],
      "mount_file_id": "1mGa4gwQApgzH6J7uvI7NATj2lidzrrXB",
      "authorship_tag": "ABX9TyM9BJZ76RgRtRnc/VqZ7mYG",
      "include_colab_link": true
    },
    "kernelspec": {
      "name": "python3",
      "display_name": "Python 3"
    },
    "language_info": {
      "name": "python"
    }
  },
  "cells": [
    {
      "cell_type": "markdown",
      "metadata": {
        "id": "view-in-github",
        "colab_type": "text"
      },
      "source": [
        "<a href=\"https://colab.research.google.com/github/luceldasilva/algebra-lineal-para-ml/blob/main/Algebra_Lineal.ipynb\" target=\"_parent\"><img src=\"https://colab.research.google.com/assets/colab-badge.svg\" alt=\"Open In Colab\"/></a>"
      ]
    },
    {
      "cell_type": "code",
      "execution_count": 1,
      "metadata": {
        "id": "uE_RxE0tUN6c"
      },
      "outputs": [],
      "source": [
        "%matplotlib inline\n",
        "\n",
        "import numpy as np\n",
        "import matplotlib.pyplot as plt"
      ]
    },
    {
      "cell_type": "markdown",
      "source": [
        "### Matrices y transformaciones lineales"
      ],
      "metadata": {
        "id": "427JfrLpUmSX"
      }
    },
    {
      "cell_type": "code",
      "source": [
        "clase_1 = np.array([[-1,3],[2,-2]])\n",
        "print(clase_1)"
      ],
      "metadata": {
        "colab": {
          "base_uri": "https://localhost:8080/"
        },
        "id": "jNzYO7OyUbtC",
        "outputId": "1e174b94-d40b-4b48-a26f-9663a30108ef"
      },
      "execution_count": 2,
      "outputs": [
        {
          "output_type": "stream",
          "name": "stdout",
          "text": [
            "[[-1  3]\n",
            " [ 2 -2]]\n"
          ]
        }
      ]
    },
    {
      "cell_type": "code",
      "source": [
        "vector_clase_1 = np.array([[2],[1]])\n",
        "print(vector_clase_1)"
      ],
      "metadata": {
        "colab": {
          "base_uri": "https://localhost:8080/"
        },
        "id": "2kDSTaTiUyxm",
        "outputId": "c4ec0941-33c5-4aaa-c3f8-daca1cc738da"
      },
      "execution_count": 3,
      "outputs": [
        {
          "output_type": "stream",
          "name": "stdout",
          "text": [
            "[[2]\n",
            " [1]]\n"
          ]
        }
      ]
    },
    {
      "cell_type": "code",
      "source": [
        "%run \"/content/drive/MyDrive/Colab Notebooks/funciones_auxiliares/graficarVectores.ipynb\""
      ],
      "metadata": {
        "id": "5AbRXQW5WqPV"
      },
      "execution_count": 4,
      "outputs": []
    },
    {
      "cell_type": "code",
      "source": [
        "print(vector_clase_1)\n",
        "print(\".·-=-·.\")\n",
        "print(vector_clase_1.flatten())"
      ],
      "metadata": {
        "colab": {
          "base_uri": "https://localhost:8080/"
        },
        "id": "_zktlQ9YXP69",
        "outputId": "b2678378-42cf-4293-b1b4-7f9888ef9073"
      },
      "execution_count": 5,
      "outputs": [
        {
          "output_type": "stream",
          "name": "stdout",
          "text": [
            "[[2]\n",
            " [1]]\n",
            ".·-=-·.\n",
            "[2 1]\n"
          ]
        }
      ]
    },
    {
      "cell_type": "code",
      "source": [
        "print(clase_1)\n",
        "print(\".·-=-·.\" * 2)\n",
        "print(clase_1.flatten())"
      ],
      "metadata": {
        "colab": {
          "base_uri": "https://localhost:8080/"
        },
        "id": "siFPUELMY_Cx",
        "outputId": "4760cbc6-e06c-4755-f4b2-3e857dba3f19"
      },
      "execution_count": 6,
      "outputs": [
        {
          "output_type": "stream",
          "name": "stdout",
          "text": [
            "[[-1  3]\n",
            " [ 2 -2]]\n",
            ".·-=-·..·-=-·.\n",
            "[-1  3  2 -2]\n"
          ]
        }
      ]
    },
    {
      "cell_type": "code",
      "source": [
        "graficarVectores([vector_clase_1.flatten()], cols='blue')\n",
        "plt.xlim(-0.5, 3)\n",
        "plt.ylim(-0.5, 2)"
      ],
      "metadata": {
        "colab": {
          "base_uri": "https://localhost:8080/",
          "height": 286
        },
        "id": "vT_LyjxYZJ22",
        "outputId": "4f3f1f54-2e22-4138-b286-93a27c91d364"
      },
      "execution_count": 7,
      "outputs": [
        {
          "output_type": "execute_result",
          "data": {
            "text/plain": [
              "(-0.5, 2.0)"
            ]
          },
          "metadata": {},
          "execution_count": 7
        },
        {
          "output_type": "display_data",
          "data": {
            "text/plain": [
              "<Figure size 432x288 with 1 Axes>"
            ],
            "image/png": "[encoded data removed]"
          },
          "metadata": {
            "needs_background": "light"
          }
        }
      ]
    },
    {
      "cell_type": "code",
      "source": [
        "vector_trans = clase_1.dot(vector_clase_1)\n",
        "print(vector_trans)"
      ],
      "metadata": {
        "colab": {
          "base_uri": "https://localhost:8080/"
        },
        "id": "MrMzngxRZjYd",
        "outputId": "ce539e00-73af-4e91-dc2a-868db7a159da"
      },
      "execution_count": 8,
      "outputs": [
        {
          "output_type": "stream",
          "name": "stdout",
          "text": [
            "[[1]\n",
            " [2]]\n"
          ]
        }
      ]
    },
    {
      "cell_type": "code",
      "source": [
        "graficarVectores([vector_clase_1.flatten(), vector_trans.flatten()],\n",
        "                 cols = ['blue', 'orange'])\n",
        "plt.xlim(-0.5, 2.5)\n",
        "plt.ylim(-0.5, 2.5)"
      ],
      "metadata": {
        "colab": {
          "base_uri": "https://localhost:8080/",
          "height": 286
        },
        "id": "9j4-RvlZaO6-",
        "outputId": "5aff7514-4e1b-4a8a-b2f2-2eea5bd64e79"
      },
      "execution_count": 9,
      "outputs": [
        {
          "output_type": "execute_result",
          "data": {
            "text/plain": [
              "(-0.5, 2.5)"
            ]
          },
          "metadata": {},
          "execution_count": 9
        },
        {
          "output_type": "display_data",
          "data": {
            "text/plain": [
              "<Figure size 432x288 with 1 Axes>"
            ],
            "image/png": "[encoded data removed]"
          },
          "metadata": {
            "needs_background": "light"
          }
        }
      ]
    },
    {
      "cell_type": "code",
      "source": [
        "print(np.linalg.det(clase_1))"
      ],
      "metadata": {
        "colab": {
          "base_uri": "https://localhost:8080/"
        },
        "id": "blQmXXjUahig",
        "outputId": "65a7c319-921a-4413-8149-5a6ed2dcfcb5"
      },
      "execution_count": 10,
      "outputs": [
        {
          "output_type": "stream",
          "name": "stdout",
          "text": [
            "-4.0\n"
          ]
        }
      ]
    },
    {
      "cell_type": "code",
      "source": [
        "print(np.linalg.norm(vector_clase_1))\n",
        "print(\".·-=-·.\" * 3)\n",
        "print(np.linalg.norm(vector_trans))"
      ],
      "metadata": {
        "colab": {
          "base_uri": "https://localhost:8080/"
        },
        "id": "KF3D3yR9asWk",
        "outputId": "2d7b11cb-5ca3-4329-f1ba-7419678bcdd8"
      },
      "execution_count": 11,
      "outputs": [
        {
          "output_type": "stream",
          "name": "stdout",
          "text": [
            "2.23606797749979\n",
            ".·-=-·..·-=-·..·-=-·.\n",
            "2.23606797749979\n"
          ]
        }
      ]
    },
    {
      "cell_type": "markdown",
      "source": [
        "## Autovalores y Autovectores"
      ],
      "metadata": {
        "id": "I9LjLWvYGmHY"
      }
    },
    {
      "cell_type": "code",
      "source": [
        "orange_ligth = '#FF9A13'\n",
        "blue_ligth = '#1190FF'"
      ],
      "metadata": {
        "id": "vriaXuUaa078"
      },
      "execution_count": 12,
      "outputs": []
    },
    {
      "cell_type": "code",
      "source": [
        "x = np.array([[3, 2], [4,1]])\n",
        "print(x)"
      ],
      "metadata": {
        "colab": {
          "base_uri": "https://localhost:8080/"
        },
        "id": "BAGPqIABFqEW",
        "outputId": "0c8a077e-ca00-4582-b3d1-41d7c47665a6"
      },
      "execution_count": 13,
      "outputs": [
        {
          "output_type": "stream",
          "name": "stdout",
          "text": [
            "[[3 2]\n",
            " [4 1]]\n"
          ]
        }
      ]
    },
    {
      "cell_type": "code",
      "source": [
        "clase_2 = np.array([[1],[1]])\n",
        "print(clase_2)"
      ],
      "metadata": {
        "colab": {
          "base_uri": "https://localhost:8080/"
        },
        "id": "U0pvtkLHFwY8",
        "outputId": "44075f32-72fb-4e78-884c-a496bd6b8839"
      },
      "execution_count": 14,
      "outputs": [
        {
          "output_type": "stream",
          "name": "stdout",
          "text": [
            "[[1]\n",
            " [1]]\n"
          ]
        }
      ]
    },
    {
      "cell_type": "code",
      "source": [
        "u_clase_2 = x.dot(clase_2)\n",
        "print(u_clase_2)"
      ],
      "metadata": {
        "colab": {
          "base_uri": "https://localhost:8080/"
        },
        "id": "ih5t8Qb7F218",
        "outputId": "6ef7dcdd-75da-476c-9ecb-628db604eae8"
      },
      "execution_count": 15,
      "outputs": [
        {
          "output_type": "stream",
          "name": "stdout",
          "text": [
            "[[5]\n",
            " [5]]\n"
          ]
        }
      ]
    },
    {
      "cell_type": "code",
      "source": [
        "graficarVectores([u_clase_2.flatten(), clase_2.flatten()], cols=[orange_ligth, blue_ligth])\n",
        "\n",
        "plt.xlim(-1,6)\n",
        "plt.ylim(-1,6)"
      ],
      "metadata": {
        "colab": {
          "base_uri": "https://localhost:8080/",
          "height": 286
        },
        "id": "tqWjEZMCF7JF",
        "outputId": "63c8f73f-6f0b-4b94-b324-2fdffd7e5bff"
      },
      "execution_count": 16,
      "outputs": [
        {
          "output_type": "execute_result",
          "data": {
            "text/plain": [
              "(-1.0, 6.0)"
            ]
          },
          "metadata": {},
          "execution_count": 16
        },
        {
          "output_type": "display_data",
          "data": {
            "text/plain": [
              "<Figure size 432x288 with 1 Axes>"
            ],
            "image/png": "[encoded data removed]"
          },
          "metadata": {
            "needs_background": "light"
          }
        }
      ]
    },
    {
      "cell_type": "code",
      "source": [
        "lambda_1 = 5\n",
        "\n",
        "lambda_1 * clase_2"
      ],
      "metadata": {
        "colab": {
          "base_uri": "https://localhost:8080/"
        },
        "id": "M-ZRGgmUGTYq",
        "outputId": "bd7de43c-58e9-400c-fce7-56077330b90d"
      },
      "execution_count": 17,
      "outputs": [
        {
          "output_type": "execute_result",
          "data": {
            "text/plain": [
              "array([[5],\n",
              "       [5]])"
            ]
          },
          "metadata": {},
          "execution_count": 17
        }
      ]
    },
    {
      "cell_type": "code",
      "source": [
        "clase_3 = np.array([[-1],[2]])\n",
        "print(clase_3)"
      ],
      "metadata": {
        "colab": {
          "base_uri": "https://localhost:8080/"
        },
        "id": "eeeOivKvGczR",
        "outputId": "ac695a8a-c918-4105-96d8-52e1b0c2d207"
      },
      "execution_count": 18,
      "outputs": [
        {
          "output_type": "stream",
          "name": "stdout",
          "text": [
            "[[-1]\n",
            " [ 2]]\n"
          ]
        }
      ]
    },
    {
      "cell_type": "code",
      "source": [
        "t_clase_3 = x.dot(clase_3)\n",
        "print(t_clase_3)"
      ],
      "metadata": {
        "colab": {
          "base_uri": "https://localhost:8080/"
        },
        "id": "KAoOLo4cGtfb",
        "outputId": "e675a60a-86b8-4fd7-86d1-d1b7ea4414a5"
      },
      "execution_count": 19,
      "outputs": [
        {
          "output_type": "stream",
          "name": "stdout",
          "text": [
            "[[ 1]\n",
            " [-2]]\n"
          ]
        }
      ]
    },
    {
      "cell_type": "code",
      "source": [
        "graficarVectores([t_clase_3.flatten(), clase_3.flatten()], cols=[orange_ligth, blue_ligth])\n",
        "\n",
        "plt.xlim(-3,3)\n",
        "plt.ylim(-3,3)"
      ],
      "metadata": {
        "colab": {
          "base_uri": "https://localhost:8080/",
          "height": 286
        },
        "id": "-lvgJIijGy94",
        "outputId": "49279f70-af32-4d49-e957-04ded99baca2"
      },
      "execution_count": 20,
      "outputs": [
        {
          "output_type": "execute_result",
          "data": {
            "text/plain": [
              "(-3.0, 3.0)"
            ]
          },
          "metadata": {},
          "execution_count": 20
        },
        {
          "output_type": "display_data",
          "data": {
            "text/plain": [
              "<Figure size 432x288 with 1 Axes>"
            ],
            "image/png": "[encoded data removed]"
          },
          "metadata": {
            "needs_background": "light"
          }
        }
      ]
    },
    {
      "cell_type": "markdown",
      "source": [
        "### Cómo calcularlos"
      ],
      "metadata": {
        "id": "PzXv0OjpHNPD"
      }
    },
    {
      "cell_type": "code",
      "source": [
        "print(np.linalg.eig(x))"
      ],
      "metadata": {
        "colab": {
          "base_uri": "https://localhost:8080/"
        },
        "id": "04Lao1_lHFbz",
        "outputId": "f204903f-6997-48cc-db4d-ee5c0e9e44a2"
      },
      "execution_count": 21,
      "outputs": [
        {
          "output_type": "stream",
          "name": "stdout",
          "text": [
            "(array([ 5., -1.]), array([[ 0.70710678, -0.4472136 ],\n",
            "       [ 0.70710678,  0.89442719]]))\n"
          ]
        }
      ]
    },
    {
      "cell_type": "code",
      "source": [
        "autovalores, autovectores = np.linalg.eig(x)\n",
        "print(autovalores)"
      ],
      "metadata": {
        "colab": {
          "base_uri": "https://localhost:8080/"
        },
        "id": "phY4H42NHwyH",
        "outputId": "8931e326-07c3-4b6a-9683-3cd620bd6fce"
      },
      "execution_count": 22,
      "outputs": [
        {
          "output_type": "stream",
          "name": "stdout",
          "text": [
            "[ 5. -1.]\n"
          ]
        }
      ]
    },
    {
      "cell_type": "code",
      "source": [
        "print(autovectores[:, 0])"
      ],
      "metadata": {
        "colab": {
          "base_uri": "https://localhost:8080/"
        },
        "id": "ovj02sqCH_Qg",
        "outputId": "8882d89a-b08f-47d9-de12-415035a653b4"
      },
      "execution_count": 23,
      "outputs": [
        {
          "output_type": "stream",
          "name": "stdout",
          "text": [
            "[0.70710678 0.70710678]\n"
          ]
        }
      ]
    },
    {
      "cell_type": "code",
      "source": [
        "print(autovectores[:, 1])"
      ],
      "metadata": {
        "colab": {
          "base_uri": "https://localhost:8080/"
        },
        "id": "TuON6-uqIDR-",
        "outputId": "85a4a03b-3fb0-4f7b-936e-abe9ee5b6426"
      },
      "execution_count": 24,
      "outputs": [
        {
          "output_type": "stream",
          "name": "stdout",
          "text": [
            "[-0.4472136   0.89442719]\n"
          ]
        }
      ]
    },
    {
      "cell_type": "code",
      "source": [
        "clase_4 = x.dot(clase_3)\n",
        "\n",
        "v_np = autovectores[:, 1]"
      ],
      "metadata": {
        "id": "B5nD3yMDIHeY"
      },
      "execution_count": 25,
      "outputs": []
    },
    {
      "cell_type": "code",
      "source": [
        "graficarVectores([clase_4.flatten(), clase_3.flatten(), v_np], cols = ['green', 'orange', 'blue'])\n",
        "\n",
        "plt.xlim(-4,2)\n",
        "plt.ylim(-7,3)"
      ],
      "metadata": {
        "colab": {
          "base_uri": "https://localhost:8080/",
          "height": 282
        },
        "id": "WZm_pYyhIXtd",
        "outputId": "04831494-67c3-47de-a76a-65c0c64ae32b"
      },
      "execution_count": 26,
      "outputs": [
        {
          "output_type": "execute_result",
          "data": {
            "text/plain": [
              "(-7.0, 3.0)"
            ]
          },
          "metadata": {},
          "execution_count": 26
        },
        {
          "output_type": "display_data",
          "data": {
            "text/plain": [
              "<Figure size 432x288 with 1 Axes>"
            ],
            "image/png": "[encoded data removed]"
          },
          "metadata": {
            "needs_background": "light"
          }
        }
      ]
    },
    {
      "cell_type": "markdown",
      "source": [
        "## Descomposición de matrices"
      ],
      "metadata": {
        "id": "yc0nQ-qIQOmf"
      }
    },
    {
      "cell_type": "markdown",
      "source": [
        "Usando el ejemplo de los autovectores y autovalores de la variable x más arriba"
      ],
      "metadata": {
        "id": "qBdQoI_uQ0NU"
      }
    },
    {
      "cell_type": "code",
      "source": [
        "X_calc = autovectores.dot(np.diag(autovalores)).dot(np.linalg.inv(autovectores))"
      ],
      "metadata": {
        "id": "dCxnyif4Iwqg"
      },
      "execution_count": 27,
      "outputs": []
    },
    {
      "cell_type": "code",
      "source": [
        "print(X_calc)"
      ],
      "metadata": {
        "colab": {
          "base_uri": "https://localhost:8080/"
        },
        "id": "NqfVMxxJQoSA",
        "outputId": "ce284e61-8eca-4ff7-be01-d02a54b297ec"
      },
      "execution_count": 28,
      "outputs": [
        {
          "output_type": "stream",
          "name": "stdout",
          "text": [
            "[[3. 2.]\n",
            " [4. 1.]]\n"
          ]
        }
      ]
    },
    {
      "cell_type": "markdown",
      "source": [
        "La matriz original de la variable x"
      ],
      "metadata": {
        "id": "JNjx4uX8Rjj2"
      }
    },
    {
      "cell_type": "code",
      "source": [
        "clase_5 = np.array([[3,2], [2,3]])\n",
        "print(clase_5)"
      ],
      "metadata": {
        "colab": {
          "base_uri": "https://localhost:8080/"
        },
        "id": "ZWyfHaI_RQ5O",
        "outputId": "a3afc357-b905-4e6b-9445-1836141f3095"
      },
      "execution_count": 29,
      "outputs": [
        {
          "output_type": "stream",
          "name": "stdout",
          "text": [
            "[[3 2]\n",
            " [2 3]]\n"
          ]
        }
      ]
    },
    {
      "cell_type": "markdown",
      "source": [
        "Mostrar que *clase_5* es simétrica"
      ],
      "metadata": {
        "id": "NOzuxif9SOYv"
      }
    },
    {
      "cell_type": "code",
      "source": [
        "print(clase_5 == clase_5.T)"
      ],
      "metadata": {
        "colab": {
          "base_uri": "https://localhost:8080/"
        },
        "id": "VJhLnCFNSLSV",
        "outputId": "5c69bbc7-2133-429b-b3dc-a7291418830c"
      },
      "execution_count": 30,
      "outputs": [
        {
          "output_type": "stream",
          "name": "stdout",
          "text": [
            "[[ True  True]\n",
            " [ True  True]]\n"
          ]
        }
      ]
    },
    {
      "cell_type": "code",
      "source": [
        "autovalores_clase_5, autovectores_clase_5 = np.linalg.eig(clase_5)\n",
        "print(autovalores_clase_5)\n",
        "print(\".·-=-·.\" * 4)\n",
        "print(autovectores_clase_5)"
      ],
      "metadata": {
        "colab": {
          "base_uri": "https://localhost:8080/"
        },
        "id": "3xmmSmjrSbau",
        "outputId": "f52de8da-7f28-40f6-d7a8-c4fbed87d866"
      },
      "execution_count": 31,
      "outputs": [
        {
          "output_type": "stream",
          "name": "stdout",
          "text": [
            "[5. 1.]\n",
            ".·-=-·..·-=-·..·-=-·..·-=-·.\n",
            "[[ 0.70710678 -0.70710678]\n",
            " [ 0.70710678  0.70710678]]\n"
          ]
        }
      ]
    },
    {
      "cell_type": "markdown",
      "source": [
        "Calcular transpuesta es más cómodo que la inversa"
      ],
      "metadata": {
        "id": "pxBda5JAS-d0"
      }
    },
    {
      "cell_type": "code",
      "source": [
        "clase_5_calc = autovectores_clase_5.dot(np.diag(autovalores_clase_5)).dot(autovectores_clase_5.T)\n",
        "print(clase_5_calc)"
      ],
      "metadata": {
        "colab": {
          "base_uri": "https://localhost:8080/"
        },
        "id": "iLixiJ3IStLy",
        "outputId": "0f33e163-0210-4452-fcde-3a0cb8413475"
      },
      "execution_count": 32,
      "outputs": [
        {
          "output_type": "stream",
          "name": "stdout",
          "text": [
            "[[3. 2.]\n",
            " [2. 3.]]\n"
          ]
        }
      ]
    },
    {
      "cell_type": "markdown",
      "source": [
        "Recuperamos matriz original"
      ],
      "metadata": {
        "id": "yVR8jNkuTk5X"
      }
    },
    {
      "cell_type": "markdown",
      "source": [
        "### ¿Cómo descompongo una matriz no cuadrada (SVD)?"
      ],
      "metadata": {
        "id": "YgSwSi_kT1dS"
      }
    },
    {
      "cell_type": "code",
      "source": [
        "class_6 = np.array([[1,2,3], [3,4,5]])\n",
        "print(class_6)"
      ],
      "metadata": {
        "colab": {
          "base_uri": "https://localhost:8080/"
        },
        "id": "1WRt6IoUTM_1",
        "outputId": "7ab7df41-57fa-43e3-8c5c-e77880cb9f8e"
      },
      "execution_count": 33,
      "outputs": [
        {
          "output_type": "stream",
          "name": "stdout",
          "text": [
            "[[1 2 3]\n",
            " [3 4 5]]\n"
          ]
        }
      ]
    },
    {
      "cell_type": "code",
      "source": [
        "U, D, V = np.linalg.svd(class_6)\n",
        "print(U)"
      ],
      "metadata": {
        "colab": {
          "base_uri": "https://localhost:8080/"
        },
        "id": "y5TpVZBEUaO_",
        "outputId": "9cf91922-45bf-403a-901f-0b5ea49b11bc"
      },
      "execution_count": 34,
      "outputs": [
        {
          "output_type": "stream",
          "name": "stdout",
          "text": [
            "[[-0.46410668 -0.88577931]\n",
            " [-0.88577931  0.46410668]]\n"
          ]
        }
      ]
    },
    {
      "cell_type": "code",
      "source": [
        "print(D)"
      ],
      "metadata": {
        "colab": {
          "base_uri": "https://localhost:8080/"
        },
        "id": "kCfdG1Z4Uiia",
        "outputId": "78d6b4be-cac6-43f5-ea0b-80ba0bcd2800"
      },
      "execution_count": 35,
      "outputs": [
        {
          "output_type": "stream",
          "name": "stdout",
          "text": [
            "[7.97638869 0.61418515]\n"
          ]
        }
      ]
    },
    {
      "cell_type": "code",
      "source": [
        "print(np.diag(D))"
      ],
      "metadata": {
        "colab": {
          "base_uri": "https://localhost:8080/"
        },
        "id": "Lw6AKQfqUnmY",
        "outputId": "ad98361b-1f48-4a9c-c2ec-31eb5282add2"
      },
      "execution_count": 36,
      "outputs": [
        {
          "output_type": "stream",
          "name": "stdout",
          "text": [
            "[[7.97638869 0.        ]\n",
            " [0.         0.61418515]]\n"
          ]
        }
      ]
    },
    {
      "cell_type": "code",
      "source": [
        "print(V)"
      ],
      "metadata": {
        "colab": {
          "base_uri": "https://localhost:8080/"
        },
        "id": "zgpqF2hFYG14",
        "outputId": "83290584-c5bd-4fef-bac5-318307fcef5a"
      },
      "execution_count": 37,
      "outputs": [
        {
          "output_type": "stream",
          "name": "stdout",
          "text": [
            "[[-0.39133557 -0.5605708  -0.72980603]\n",
            " [ 0.8247362   0.13817999 -0.54837623]\n",
            " [ 0.40824829 -0.81649658  0.40824829]]\n"
          ]
        }
      ]
    },
    {
      "cell_type": "markdown",
      "source": [
        "## Las tres transformaciones"
      ],
      "metadata": {
        "id": "guAhxOe3ZvZ9"
      }
    },
    {
      "cell_type": "code",
      "source": [
        "%run \"/content/drive/MyDrive/Colab Notebooks/funciones_auxiliares/graficarMatriz.ipynb\""
      ],
      "metadata": {
        "id": "bb1DtYGgYV9P"
      },
      "execution_count": 38,
      "outputs": []
    },
    {
      "cell_type": "code",
      "source": [
        "clase_7 = np.array([[3,7], [5,2]])\n",
        "print(clase_7)"
      ],
      "metadata": {
        "colab": {
          "base_uri": "https://localhost:8080/"
        },
        "id": "wP9l8oJedZXV",
        "outputId": "ba077667-2201-42cf-f0d6-50fbc6a1f73f"
      },
      "execution_count": 39,
      "outputs": [
        {
          "output_type": "stream",
          "name": "stdout",
          "text": [
            "[[3 7]\n",
            " [5 2]]\n"
          ]
        }
      ]
    },
    {
      "cell_type": "code",
      "source": [
        "print('Circulo unitario:')\n",
        "graficarMatriz(np.eye(2))\n",
        "\n",
        "plt.xlim(-1.5, 1.5)\n",
        "plt.ylim(-1.5, 1.5)\n",
        "plt.show()"
      ],
      "metadata": {
        "colab": {
          "base_uri": "https://localhost:8080/",
          "height": 286
        },
        "id": "76CdKA_Udnzs",
        "outputId": "31d3806c-e89d-4e62-a163-71314244f775"
      },
      "execution_count": 40,
      "outputs": [
        {
          "output_type": "stream",
          "name": "stdout",
          "text": [
            "Circulo unitario:\n"
          ]
        },
        {
          "output_type": "display_data",
          "data": {
            "text/plain": [
              "<Figure size 432x288 with 1 Axes>"
            ],
            "image/png": "[encoded data removed]"
          },
          "metadata": {
            "needs_background": "light"
          }
        }
      ]
    },
    {
      "cell_type": "code",
      "source": [
        "print('Circulo unitario Transformado:')\n",
        "graficarMatriz(clase_7)\n",
        "\n",
        "plt.xlim(-8, 8)\n",
        "plt.ylim(-8, 8)\n",
        "plt.show()"
      ],
      "metadata": {
        "colab": {
          "base_uri": "https://localhost:8080/",
          "height": 286
        },
        "id": "HEJcXiBzd-om",
        "outputId": "266a8c5d-d69e-4eba-add5-42ff3be8f4ad"
      },
      "execution_count": 41,
      "outputs": [
        {
          "output_type": "stream",
          "name": "stdout",
          "text": [
            "Circulo unitario Transformado:\n"
          ]
        },
        {
          "output_type": "display_data",
          "data": {
            "text/plain": [
              "<Figure size 432x288 with 1 Axes>"
            ],
            "image/png": "[encoded data removed]"
          },
          "metadata": {
            "needs_background": "light"
          }
        }
      ]
    },
    {
      "cell_type": "markdown",
      "source": [
        "## Aplicación de las matrices D y V y U y su efecto en la transformación"
      ],
      "metadata": {
        "id": "QZCMSJAog7mD"
      }
    },
    {
      "cell_type": "code",
      "source": [
        "U7, D7, V7 = np.linalg.svd(clase_7)\n",
        "print(U7)"
      ],
      "metadata": {
        "colab": {
          "base_uri": "https://localhost:8080/"
        },
        "id": "zqkclVhqeV3e",
        "outputId": "b07280a7-7233-447a-b4fe-08e80db8de9b"
      },
      "execution_count": 42,
      "outputs": [
        {
          "output_type": "stream",
          "name": "stdout",
          "text": [
            "[[-0.85065081 -0.52573111]\n",
            " [-0.52573111  0.85065081]]\n"
          ]
        }
      ]
    },
    {
      "cell_type": "code",
      "source": [
        "print('Primer rotación V:')\n",
        "graficarMatriz(V7)\n",
        "\n",
        "plt.xlim(-1.5, 1.5)\n",
        "plt.ylim(-1.5, 1.5)\n",
        "plt.show()"
      ],
      "metadata": {
        "colab": {
          "base_uri": "https://localhost:8080/",
          "height": 286
        },
        "id": "80hdMGN4fGo-",
        "outputId": "b5cec88b-e323-4c89-d4ba-3ab9508793a4"
      },
      "execution_count": 43,
      "outputs": [
        {
          "output_type": "stream",
          "name": "stdout",
          "text": [
            "Primer rotación V:\n"
          ]
        },
        {
          "output_type": "display_data",
          "data": {
            "text/plain": [
              "<Figure size 432x288 with 1 Axes>"
            ],
            "image/png": "[encoded data removed]"
          },
          "metadata": {
            "needs_background": "light"
          }
        }
      ]
    },
    {
      "cell_type": "code",
      "source": [
        "print('Escala (D):')\n",
        "graficarMatriz(np.diag(D7).dot(V7))\n",
        "\n",
        "plt.xlim(-9, 9)\n",
        "plt.ylim(-9, 9)\n",
        "plt.show()"
      ],
      "metadata": {
        "colab": {
          "base_uri": "https://localhost:8080/",
          "height": 282
        },
        "id": "BVaUA5fNffsO",
        "outputId": "e3cc9d0e-4fdd-4bf5-d469-0844df47d3b4"
      },
      "execution_count": 44,
      "outputs": [
        {
          "output_type": "stream",
          "name": "stdout",
          "text": [
            "Escala (D):\n"
          ]
        },
        {
          "output_type": "display_data",
          "data": {
            "text/plain": [
              "<Figure size 432x288 with 1 Axes>"
            ],
            "image/png": "[encoded data removed]"
          },
          "metadata": {
            "needs_background": "light"
          }
        }
      ]
    },
    {
      "cell_type": "code",
      "source": [
        "print('Segunda Rotación U:')\n",
        "graficarMatriz(U7.dot(np.diag(D7).dot(V7)))\n",
        "\n",
        "plt.xlim(-8, 8)\n",
        "plt.ylim(-8, 8)\n",
        "plt.show()"
      ],
      "metadata": {
        "colab": {
          "base_uri": "https://localhost:8080/",
          "height": 286
        },
        "id": "mvpqJZldgBmO",
        "outputId": "d2fa9e41-a510-4ffb-a9ec-4974f6ec9c76"
      },
      "execution_count": 45,
      "outputs": [
        {
          "output_type": "stream",
          "name": "stdout",
          "text": [
            "Segunda Rotación U:\n"
          ]
        },
        {
          "output_type": "display_data",
          "data": {
            "text/plain": [
              "<Figure size 432x288 with 1 Axes>"
            ],
            "image/png": "[encoded data removed]"
          },
          "metadata": {
            "needs_background": "light"
          }
        }
      ]
    },
    {
      "cell_type": "markdown",
      "source": [
        "## ¿Cómo interpretar los valores singulares?"
      ],
      "metadata": {
        "id": "wEviiU6vhgxM"
      }
    },
    {
      "cell_type": "code",
      "source": [
        "print(D7[0])\n",
        "print(D7[1])"
      ],
      "metadata": {
        "colab": {
          "base_uri": "https://localhost:8080/"
        },
        "id": "93zpZxuNghZC",
        "outputId": "afc20da7-67ca-46ad-ddaf-09d8c5fabd39"
      },
      "execution_count": 46,
      "outputs": [
        {
          "output_type": "stream",
          "name": "stdout",
          "text": [
            "8.7133796929634\n",
            "3.3282148858288965\n"
          ]
        }
      ]
    },
    {
      "cell_type": "code",
      "source": [
        "u1_clase_9 = [D7[0]*U7[0,0], D7[0]*U7[0,1]]\n",
        "v1_clase_9 = [D7[1]*U7[1,0], D7[1]*U7[1,1]]\n",
        "\n",
        "print([clase_7[0,0], clase_7[1,0]])\n",
        "print(\".·-=-·.\" * 6)\n",
        "print(u1_clase_9)\n",
        "print(\".·-=-·.\" * 6)\n",
        "print([clase_7[0,1], clase_7[1,1]])\n",
        "print(\".·-=-·.\" * 6)\n",
        "print(v1_clase_9)"
      ],
      "metadata": {
        "colab": {
          "base_uri": "https://localhost:8080/"
        },
        "id": "GmhZ9q1Hht3N",
        "outputId": "c82f46dc-dcbf-4a18-f366-697437fb997e"
      },
      "execution_count": 47,
      "outputs": [
        {
          "output_type": "stream",
          "name": "stdout",
          "text": [
            "[3, 5]\n",
            ".·-=-·..·-=-·..·-=-·..·-=-·..·-=-·..·-=-·.\n",
            "[-7.4120434792975685, -4.580894796297923]\n",
            ".·-=-·..·-=-·..·-=-·..·-=-·..·-=-·..·-=-·.\n",
            "[7, 2]\n",
            ".·-=-·..·-=-·..·-=-·..·-=-·..·-=-·..·-=-·.\n",
            "[-1.7497461132982814, 2.8311486829996433]\n"
          ]
        }
      ]
    },
    {
      "cell_type": "code",
      "source": [
        "graficarMatriz(clase_7)\n",
        "graficarVectores([u1_clase_9, v1_clase_9], cols = ['red', 'blue'])\n",
        "\n",
        "plt.text(3, 5, r\"$u_1$\", size = 18)\n",
        "plt.text(7, 2, r\"$v_1$\", size = 18)\n",
        "\n",
        "plt.text(-5, -4, r\"$D(u_1)$\", size = 18)\n",
        "plt.text(-4, 1, r\"$D(v_1)$\", size = 18)\n",
        "\n",
        "plt.xlim(-8, 8)\n",
        "plt.ylim(-8, 8)\n",
        "plt.show()"
      ],
      "metadata": {
        "colab": {
          "base_uri": "https://localhost:8080/",
          "height": 269
        },
        "id": "8Efm9wr-it6u",
        "outputId": "dfd4957a-7e64-4f3d-ace1-fdb3a093104f"
      },
      "execution_count": 48,
      "outputs": [
        {
          "output_type": "display_data",
          "data": {
            "text/plain": [
              "<Figure size 432x288 with 1 Axes>"
            ],
            "image/png": "[encoded data removed]"
          },
          "metadata": {
            "needs_background": "light"
          }
        }
      ]
    }
  ]
}