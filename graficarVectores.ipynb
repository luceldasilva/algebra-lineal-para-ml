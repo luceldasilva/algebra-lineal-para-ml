{
  "cells": [
    {
      "cell_type": "markdown",
      "metadata": {
        "id": "view-in-github",
        "colab_type": "text"
      },
      "source": [
        "<a href=\"https://colab.research.google.com/github/luceldasilva/algebra-lineal-para-ml/blob/main/graficarVectores.ipynb\" target=\"_parent\"><img src=\"https://colab.research.google.com/assets/colab-badge.svg\" alt=\"Open In Colab\"/></a>"
      ]
    },
    {
      "cell_type": "code",
      "execution_count": null,
      "metadata": {
        "colab": {
          "background_save": true
        },
        "id": "bCq1060SU-NX"
      },
      "outputs": [],
      "source": [
        "def graficarVectores(vecs, cols, alpha=1):\n",
        "  plt.axvline(x=0, color='grey', zorder = 0)\n",
        "  plt.axvline(x=0, color='grey', zorder = 0)\n",
        "  for i in range(len(vecs)):\n",
        "    x = np.concatenate([[0,0], vecs[i]])\n",
        "    plt.quiver([x[0]],\n",
        "               [x[1]],\n",
        "               [x[2]],\n",
        "               [x[3]],\n",
        "               angles='xy', scale_units='xy',\n",
        "               scale=1,\n",
        "               color = cols[i],\n",
        "               alpha = alpha\n",
        "               )"
      ]
    }
  ],
  "metadata": {
    "colab": {
      "provenance": [],
      "authorship_tag": "ABX9TyM9geFn9ET7HqWs9ClH+IVS",
      "include_colab_link": true
    },
    "kernelspec": {
      "display_name": "Python 3",
      "name": "python3"
    },
    "language_info": {
      "name": "python"
    }
  },
  "nbformat": 4,
  "nbformat_minor": 0
}