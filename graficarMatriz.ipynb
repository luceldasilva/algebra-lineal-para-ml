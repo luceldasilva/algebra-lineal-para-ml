{
  "nbformat": 4,
  "nbformat_minor": 0,
  "metadata": {
    "colab": {
      "provenance": [],
      "authorship_tag": "ABX9TyPy6+tR84XCXDLQ3yyJPc5T",
      "include_colab_link": true
    },
    "kernelspec": {
      "name": "python3",
      "display_name": "Python 3"
    },
    "language_info": {
      "name": "python"
    }
  },
  "cells": [
    {
      "cell_type": "markdown",
      "metadata": {
        "id": "view-in-github",
        "colab_type": "text"
      },
      "source": [
        "<a href=\"https://colab.research.google.com/github/luceldasilva/algebra-lineal-para-ml/blob/main/graficarMatriz.ipynb\" target=\"_parent\"><img src=\"https://colab.research.google.com/assets/colab-badge.svg\" alt=\"Open In Colab\"/></a>"
      ]
    },
    {
      "cell_type": "code",
      "execution_count": 3,
      "metadata": {
        "id": "i1L_IE-2buo_"
      },
      "outputs": [],
      "source": [
        "def graficarMatriz(matriz, vectorCol=['red', 'blue']):\n",
        "\n",
        "  #circulo unitario\n",
        "  x = np.linspace(-1,1, 100000)\n",
        "  y = np.sqrt(1-(x**2))\n",
        "\n",
        "  #circulo unitario transformado\n",
        "  x1 = matriz[0,0]*x + matriz[0,1]*y\n",
        "  y1 = matriz[1,0]*x + matriz[1,1]*y\n",
        "  x1_neg = matriz[0,0]*x - matriz[0,1]*y\n",
        "  y1_neg = matriz[1,0]*x - matriz[1,1]*y\n",
        "\n",
        "  #vectores\n",
        "  u1 = [matriz[0,0], matriz[1,0]]\n",
        "  v1 = [matriz[0,1], matriz[1,1]]\n",
        "\n",
        "  graficarVectores([u1, v1], cols=[vectorCol[0], vectorCol[1]])\n",
        "\n",
        "  plt.plot(x1, y1, 'green', alpha = 0.7)\n",
        "  plt.plot(x1, y1, 'green', alpha = 0.7)"
      ]
    }
  ]
}